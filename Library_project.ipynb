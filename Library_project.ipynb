{
 "cells": [
  {
   "attachments": {},
   "cell_type": "markdown",
   "metadata": {},
   "source": [
    "# My Repo Link on GitHub https://github.com/Abdelkhalek2016/Library_System.git"
   ]
  },
  {
   "cell_type": "code",
   "execution_count": 10,
   "metadata": {},
   "outputs": [],
   "source": [
    "class Library:\n",
    "    def __init__(self,booklist,lname):\n",
    "        self.book_list=booklist\n",
    "        eself.library_nam=lname\n",
    "        self.lendbook={}\n",
    "    def displayBooks(self):\n",
    "        print(f'library name {self.library_name} and its book names is')\n",
    "        for book in self.book_list:\n",
    "            print(book)\n",
    "        \n",
    "\n",
    "\n",
    "            \n",
    "        "
   ]
  },
  {
   "cell_type": "code",
   "execution_count": 11,
   "metadata": {},
   "outputs": [
    {
     "name": "stdout",
     "output_type": "stream",
     "text": [
      "library name persons and its book names is\n",
      "ahmed\n",
      "mohamed\n",
      "kareem\n"
     ]
    }
   ],
   "source": [
    "library1=Library(['ahmed','mohamed','kareem'],'persons')\n",
    "library1.displayBooks()\n"
   ]
  },
  {
   "cell_type": "code",
   "execution_count": 1,
   "metadata": {},
   "outputs": [],
   "source": [
    "class Library:\n",
    "    def __init__(self,li,n):\n",
    "        self.booklist = li\n",
    "        self.name = n\n",
    "        self.lendDict = {}\n",
    "        \n",
    "    #task1.2   \n",
    "    def display_books(self):\n",
    "        print(f\"we have following books in our library {self.name}\")\n",
    "        for book in self.booklist:\n",
    "            print(book)\n",
    "            \n",
    "    #task1.3      \n",
    "    def lendbook(self,user,book):\n",
    "        if book not in self.booklist:\n",
    "            print('this book is not existing in our database')\n",
    "            \n",
    "        elif book not in self.lendDict.keys():\n",
    "#             self.lendDict[book] = user\n",
    "            self.lendDict.update({book:user})\n",
    "            print('thanks for taking our book..database is updated')\n",
    "        else:\n",
    "            print(f'book is already lended by {self.lendDict[book]}')\n",
    "            \n",
    "#    task1.4        \n",
    "    def addBook(self,book):\n",
    "        self.booklist.append(book)\n",
    "        print(f\"book {book} added successfuly to our database\")\n",
    "        \n",
    "#     task1.5\n",
    "    def returnBook(self,book):\n",
    "        self.lendDict.pop(book)\n",
    "        print(f\"book {book} returned successfuly to our library\")"
   ]
  },
  {
   "cell_type": "code",
   "execution_count": 13,
   "metadata": {},
   "outputs": [
    {
     "name": "stdout",
     "output_type": "stream",
     "text": [
      "welcome to our library CodeWithHarry\n",
      "you entered wrong choice please try again\n",
      "welcome to our library CodeWithHarry\n",
      "you entered wrong choice please try again\n",
      "welcome to our library CodeWithHarry\n",
      "we have following books in our library CodeWithHarry\n",
      "python\n",
      "Rich\n",
      "Book1\n",
      "Book2\n",
      "Book4\n",
      "thanks for using our library\n"
     ]
    }
   ],
   "source": [
    "library = Library(['python','Rich','Book1','Book2','Book4'],'CodeWithHarry')\n",
    "\n",
    "while 1:\n",
    "    print('welcome to our library',library.name)\n",
    "    choice=int(input('''please input:\\n[1] for \"Display Books\"\\n[2] for Lend Book\\n[3] for Adding Book\\n[4] for return Book '''))\n",
    "    if choice==1:\n",
    "        library.display_books()\n",
    "    elif choice==2:\n",
    "        book=input('please input your required book name')\n",
    "        user=input('please input your name')\n",
    "        library.lendbook(user,book)\n",
    "    elif choice==3:\n",
    "        book=input('please input new book name that need to adding it')\n",
    "        library.addBook(book)\n",
    "    elif choice==4:\n",
    "        book=input('please input your book name that you need to return it')\n",
    "        library.returnBook(book)\n",
    "    else:\n",
    "        print('you entered wrong choice please try again')\n",
    "        continue\n",
    "    end=input('please press y for continue into our library or n to end program')\n",
    "    \n",
    "    if end=='y':\n",
    "        continue\n",
    "    else:\n",
    "        print('thanks for using our library')\n",
    "        break\n",
    "    \n",
    "        \n",
    "        \n",
    "        \n",
    "        \n",
    "        \n",
    "        \n",
    "        \n",
    "    "
   ]
  },
  {
   "cell_type": "code",
   "execution_count": null,
   "metadata": {},
   "outputs": [],
   "source": []
  }
 ],
 "metadata": {
  "kernelspec": {
   "display_name": "DATASCIENCE",
   "language": "python",
   "name": "python3"
  },
  "language_info": {
   "codemirror_mode": {
    "name": "ipython",
    "version": 3
   },
   "file_extension": ".py",
   "mimetype": "text/x-python",
   "name": "python",
   "nbconvert_exporter": "python",
   "pygments_lexer": "ipython3",
   "version": "3.9.16"
  },
  "orig_nbformat": 4,
  "vscode": {
   "interpreter": {
    "hash": "ae8a79677a5d6b3037e1e1cee72b87831aa8994e8ed84ed9662b31584e879edd"
   }
  }
 },
 "nbformat": 4,
 "nbformat_minor": 2
}
